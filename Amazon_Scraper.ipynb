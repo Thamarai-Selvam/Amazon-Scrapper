{
  "nbformat": 4,
  "nbformat_minor": 0,
  "metadata": {
    "colab": {
      "name": "Amazon Scraper.ipynb",
      "provenance": [],
      "collapsed_sections": [],
      "authorship_tag": "ABX9TyMOdoGLlqjx33Od0w8BDa7C",
      "include_colab_link": true
    },
    "kernelspec": {
      "name": "python3",
      "display_name": "Python 3"
    }
  },
  "cells": [
    {
      "cell_type": "markdown",
      "metadata": {
        "id": "view-in-github",
        "colab_type": "text"
      },
      "source": [
        "<a href=\"https://colab.research.google.com/github/Thamarai-Selvam/Amazon-Scrapper/blob/master/Amazon_Scraper.ipynb\" target=\"_parent\"><img src=\"https://colab.research.google.com/assets/colab-badge.svg\" alt=\"Open In Colab\"/></a>"
      ]
    },
    {
      "cell_type": "markdown",
      "metadata": {
        "id": "ymGvaWbmPjVG",
        "colab_type": "text"
      },
      "source": [
        "Base URL :\n",
        "\n",
        "https://www.amazon.in/s?rh=n%3A976419031%2Cn%3A!976420031%2Cn%3A1389401031\n",
        "\n",
        "<li id=\"result_26\" data-result-rank=\"26\" data-asin=\"B0789LZTCJ\" class=\"s-result-item  celwidget  \">\n",
        "    <div class=\"s-item-container\" style=\"height: 484px;\">\n",
        "        <div class=\"a-row a-spacing-top-micro a-spacing-micro\">\n",
        "            <div class=\"a-row sx-badge-region\">\n",
        "                <div class=\"a-row a-badge-region\"><a id=\"BESTSELLER_B0789LZTCJ\" href=\"/gp/bestsellers/computers/1375287031/ref=sr_bs_0_1375287031_1\" class=\"a-badge\" aria-labelledby=\"BESTSELLER_B0789LZTCJ-label BESTSELLER_B0789LZTCJ-supplementary\" data-a-badge-supplementary-position=\"right\"\n",
        "                        data-a-badge-type=\"status\"><span id=\"BESTSELLER_B0789LZTCJ-label\" class=\"a-badge-label\" data-a-badge-color=\"sx-orange\" aria-hidden=\"true\"><span class=\"a-badge-label-inner a-text-ellipsis\"><span class=\"a-badge-text\" data-a-badge-color=\"sx-cloud\">Best seller</span></span></span><span id=\"BESTSELLER_B0789LZTCJ-supplementary\" class=\"a-badge-supplementary-text a-text-ellipsis\" aria-hidden=\"true\">in USB Cables</span></a></div>\n",
        "            </div>\n",
        "        </div>\n",
        "        <div class=\"a-row a-spacing-base\">\n",
        "            <div aria-hidden=\"true\" class=\"a-column a-span12 a-text-left\">\n",
        "                <div class=\"a-section a-spacing-none a-inline-block s-position-relative\">\n",
        "                    <a class=\"a-link-normal a-text-normal\" href=\"https://www.amazon.in/Rugged-Extra-Tough-Unbreakable-Braided/dp/B0789LZTCJ/ref=lp_1389401031_1_27?s=electronics&amp;ie=UTF8&amp;qid=1584893999&amp;sr=1-27\"><img src=\"https://images-eu.ssl-images-amazon.com/images/I/41SDfuK7L2L._AC_US160_.jpg\" srcset=\"https://images-eu.ssl-images-amazon.com/images/I/41SDfuK7L2L._AC_US160_.jpg 1x, https://images-eu.ssl-images-amazon.com/images/I/41SDfuK7L2L._AC_US240_QL65_.jpg 1.5x, https://images-eu.ssl-images-amazon.com/images/I/41SDfuK7L2L._AC_US320_QL65_.jpg 2x, https://images-eu.ssl-images-amazon.com/images/I/41SDfuK7L2L._AC_US400_QL65_.jpg 2.5x, https://images-eu.ssl-images-amazon.com/images/I/41SDfuK7L2L._AC_US480_QL65_.jpg 3x\"\n",
        "                            alt=\"boAt Rugged v3 Extra Tough Unbreakable Braided Micro USB Cable 1.5 Meter (Black)\" class=\"s-access-image cfMarker\" data-search-image-load=\"\" width=\"160\" height=\"160\"></a>\n",
        "                    <div class=\"a-section a-spacing-none a-text-center\">\n",
        "                        <div class=\"a-row a-spacing-top-mini\">\n",
        "                            <a class=\"a-size-mini a-link-normal a-text-normal\" href=\"https://www.amazon.in/Rugged-Extra-Tough-Unbreakable-Braided/dp/B0789LZTCJ/ref=lp_1389401031_1_27_m?s=electronics&amp;ie=UTF8&amp;qid=1584893999&amp;sr=1-27\">\n",
        "                                <div class=\"a-box\">\n",
        "                                    <div class=\"a-box-inner a-padding-mini\"><span class=\"a-color-secondary\">See available choices</span></div>\n",
        "                                </div>\n",
        "                            </a>\n",
        "                        </div>\n",
        "                    </div>\n",
        "                </div>\n",
        "            </div>\n",
        "        </div>\n",
        "        <div class=\"a-row a-spacing-mini\">\n",
        "            <div class=\"a-row a-spacing-none\">\n",
        "                <a class=\"a-link-normal s-access-detail-page s-color-twister-title-link a-text-normal\" title=\"boAt Rugged v3 Extra Tough Unbreakable Braided Micro USB Cable 1.5 Meter (Black)\" href=\"https://www.amazon.in/Rugged-Extra-Tough-Unbreakable-Braided/dp/B0789LZTCJ/ref=lp_1389401031_1_27?s=electronics&amp;ie=UTF8&amp;qid=1584893999&amp;sr=1-27\">\n",
        "                    <h2 data-attribute=\"boAt Rugged v3 Extra Tough Unbreakable Braided Micro USB Cable 1.5 Meter (Black)\" data-max-rows=\"0\" class=\"a-size-base s-inline s-access-title a-text-normal\">boAt Rugged v3 Extra Tough Unbreakable Braided Micro USB Cable 1.5 Meter (Black)</h2>\n",
        "                </a>\n",
        "            </div>\n",
        "            <div class=\"a-row a-spacing-none\"><span class=\"a-size-small a-color-secondary\">by </span><span class=\"a-size-small a-color-secondary\">Boat</span></div>\n",
        "        </div>\n",
        "        <div class=\"a-row\"></div>\n",
        "        <div class=\"a-row a-spacing-mini\">\n",
        "            <div class=\"a-row a-spacing-none\"><a class=\"a-link-normal a-text-normal\" href=\"https://www.amazon.in/Rugged-Extra-Tough-Unbreakable-Braided/dp/B0789LZTCJ/ref=lp_1389401031_1_27?s=electronics&amp;ie=UTF8&amp;qid=1584893999&amp;sr=1-27\"><span class=\"a-size-small a-color-secondary\"></span><span class=\"a-size-base a-color-price s-price a-text-bold\"><span class=\"currencyINR\">&nbsp;&nbsp;</span>299</span></a>\n",
        "                <span\n",
        "                    class=\"a-letter-space\"></span><span aria-label=\"Suggested Retail Price: <span class=&quot;currencyINR&quot;>&nbsp;&nbsp;</span>799\" class=\"a-size-small a-color-secondary a-text-strike\"><span class=\"currencyINR\">&nbsp;&nbsp;</span>799</span>\n",
        "            </div>\n",
        "            <div class=\"a-row a-spacing-none\"><span class=\"a-size-small a-color-secondary\">You Save: </span><span class=\"a-size-small a-color-price\"><span class=\"currencyINR\">&nbsp;&nbsp;</span>500 (62%)\n",
        "                </span>\n",
        "            </div>\n",
        "            <div class=\"a-row a-spacing-none\"><i class=\"a-icon a-icon-prime a-icon-small s-align-text-bottom\" role=\"img\" aria-label=\"prime\"></i></div>\n",
        "            <div class=\"a-row a-spacing-none\">\n",
        "                <div class=\"a-row a-spacing-none\"><span class=\"a-size-small a-color-secondary\">Get it by <span class=\"a-color-success a-text-bold\">Thursday, March 26</span></span>\n",
        "                </div>\n",
        "            </div>\n",
        "            <div class=\"a-row a-spacing-none\">\n",
        "                <div class=\"a-row a-spacing-mini\"></div><span class=\"a-size-small a-color-secondary\">More Buying Choices</span></div>\n",
        "            <div class=\"a-row a-spacing-none\"><a class=\"a-size-small a-link-normal a-text-normal\" href=\"https://www.amazon.in/gp/offer-listing/B0789LZTCJ/ref=lp_1389401031_1_27_olp?s=electronics&amp;ie=UTF8&amp;qid=1584893999&amp;sr=1-27\"><span class=\"a-size-base a-color-price a-text-bold\"><span class=\"currencyINR\">&nbsp;&nbsp;</span>289</span><span class=\"a-letter-space\"></span>offer<span class=\"a-letter-space\"></span><span class=\"a-color-secondary\">(9 offers)</span><span class=\"a-letter-space\"></span><span class=\"a-color-secondary a-text-strike\"></span></a></div>\n",
        "        </div>\n",
        "        <div class=\"a-row a-spacing-top-mini a-spacing-mini\">\n",
        "            <div class=\"a-row a-spacing-none\">\n",
        "                <div class=\"a-popover-preload\" id=\"a-popover-B0789LZTCJ\">\n",
        "                    <ul class=\"a-unordered-list a-vertical\">\n",
        "                        <li><span class=\"a-list-item\">5% off with HSBC Cashback card</span></li>\n",
        "                        <li><span class=\"a-list-item\">Flat 5% back with Amazon Pay ICICI card</span></li>\n",
        "                        <li><span class=\"a-list-item\">Flat Rs.50 back using Amazon Pay UPI</span></li>\n",
        "                    </ul><a class=\"a-size-small a-link-normal a-text-normal\" href=\"https://www.amazon.in/Rugged-Extra-Tough-Unbreakable-Braided/dp/B0789LZTCJ/ref=lp_1389401031_1_27_det?s=electronics&amp;ie=UTF8&amp;qid=1584893999&amp;sr=1-27#productPromotions\">See Details</a></div>\n",
        "                <span\n",
        "                    class=\"a-size-small a-color-secondary\"><span class=\"a-color-secondary\"></span> and <span class=\"a-declarative\" data-action=\"a-popover\" data-a-popover=\"{&quot;name&quot;:&quot;B0789LZTCJ&quot;,&quot;position&quot;:&quot;triggerBottom&quot;}\"><a href=\"javascript:void(0)\" class=\"a-popover-trigger a-declarative a-text-normal\">3 more promotions<i class=\"a-icon a-icon-popover\"></i></a></span></span>\n",
        "            </div>\n",
        "        </div>\n",
        "        <div class=\"a-row a-spacing-none\"><span name=\"B0789LZTCJ\">\n",
        "    <span class=\"a-declarative\" data-action=\"a-popover\" data-a-popover=\"{&quot;max-width&quot;:&quot;700&quot;,&quot;closeButton&quot;:&quot;false&quot;,&quot;position&quot;:&quot;triggerBottom&quot;,&quot;url&quot;:&quot;/review/widgets/average-customer-review/popover/ref=acr_search__popover?ie=UTF8&amp;asin=B0789LZTCJ&amp;contextId=search&amp;ref=acr_search__popover&quot;}\"><a href=\"javascript:void(0)\" class=\"a-popover-trigger a-declarative\"><i class=\"a-icon a-icon-star a-star-4\"><span class=\"a-icon-alt\">3.9 out of 5 stars</span></i>\n",
        "            <i class=\"a-icon a-icon-popover\"></i>\n",
        "                </a>\n",
        "                </span>\n",
        "                </span>\n",
        "                <a class=\"a-size-small a-link-normal a-text-normal\" href=\"https://www.amazon.in/Rugged-Extra-Tough-Unbreakable-Braided/dp/B0789LZTCJ/ref=lp_1389401031_1_27?s=electronics&amp;ie=UTF8&amp;qid=1584893999&amp;sr=1-27#customerReviews\">12,595</a></div>\n",
        "    </div>\n",
        "</li>"
      ]
    }
  ]
}